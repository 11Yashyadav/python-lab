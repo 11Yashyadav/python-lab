{
 "cells": [
  {
   "cell_type": "markdown",
   "id": "fce58901-feb6-4299-9a0e-a06d1ee48e6b",
   "metadata": {},
   "source": [
    "### Solution 1:"
   ]
  },
  {
   "cell_type": "code",
   "execution_count": 1,
   "id": "2be6ae8c-7942-44aa-9fb9-7b882813af9d",
   "metadata": {},
   "outputs": [
    {
     "name": "stdout",
     "output_type": "stream",
     "text": [
      "   Unnamed: 0  Price   Age     KM FuelType  HP  MetColor  Automatic    CC  \\\n",
      "0           0  13500  23.0  46986   Diesel  90       1.0          0  2000   \n",
      "1           1  13750  23.0  72937   Diesel  90       1.0          0  2000   \n",
      "2           2  13950  24.0  41711   Diesel  90       NaN          0  2000   \n",
      "3           3  14950  26.0  48000   Diesel  90       0.0          0  2000   \n",
      "4           4  13750  30.0  38500   Diesel  90       0.0          0  2000   \n",
      "\n",
      "   Doors  Weight  \n",
      "0  three    1165  \n",
      "1      3    1165  \n",
      "2      3    1165  \n",
      "3      3    1165  \n",
      "4      3    1170  \n"
     ]
    }
   ],
   "source": [
    "import pandas as pd \n",
    "import numpy as np  \n",
    "df = pd.read_csv(\"Toyota.csv\")\n",
    "print(df.head())\n",
    "# we can use to_string method for reading csv file we can use head and tail funtion to read from bottom and top of the file,bydefual head and tail funtion read the first 5 and last 5 data"
   ]
  },
  {
   "cell_type": "markdown",
   "id": "4357a833-8d68-46b7-a42f-28af2967e4ac",
   "metadata": {},
   "source": [
    "### Solution 2"
   ]
  },
  {
   "cell_type": "code",
   "execution_count": 2,
   "id": "685ae7ff-40eb-4b08-a66c-3e2d113777d3",
   "metadata": {},
   "outputs": [
    {
     "name": "stdout",
     "output_type": "stream",
     "text": [
      "      Unnamed: 0  Price   Age     KM FuelType   HP  MetColor  Automatic    CC  \\\n",
      "0              0  13500  23.0  46986   Diesel   90       1.0          0  2000   \n",
      "1              1  13750  23.0  72937   Diesel   90       1.0          0  2000   \n",
      "2              2  13950  24.0  41711   Diesel   90       NaN          0  2000   \n",
      "3              3  14950  26.0  48000   Diesel   90       0.0          0  2000   \n",
      "4              4  13750  30.0  38500   Diesel   90       0.0          0  2000   \n",
      "...          ...    ...   ...    ...      ...  ...       ...        ...   ...   \n",
      "1431        1431   7500   NaN  20544   Petrol   86       1.0          0  1300   \n",
      "1432        1432  10845  72.0     ??   Petrol   86       0.0          0  1300   \n",
      "1433        1433   8500   NaN  17016   Petrol   86       0.0          0  1300   \n",
      "1434        1434   7250  70.0     ??      NaN   86       1.0          0  1300   \n",
      "1435        1435   6950  76.0      1   Petrol  110       0.0          0  1600   \n",
      "\n",
      "      Doors  Weight  \n",
      "0     three    1165  \n",
      "1         3    1165  \n",
      "2         3    1165  \n",
      "3         3    1165  \n",
      "4         3    1170  \n",
      "...     ...     ...  \n",
      "1431      3    1025  \n",
      "1432      3    1015  \n",
      "1433      3    1015  \n",
      "1434      3    1015  \n",
      "1435      5    1114  \n",
      "\n",
      "[1436 rows x 11 columns]\n",
      "      Unnamed: 0  Price   Age     KM FuelType   HP  MetColor  Automatic    CC  \\\n",
      "0              0  13500  23.0  46986   Diesel   90       1.0          0  2000   \n",
      "1              1  13750  23.0  72937   Diesel   90       1.0          0  2000   \n",
      "2              2  13950  24.0  41711   Diesel   90       NaN          0  2000   \n",
      "3              3  14950  26.0  48000   Diesel   90       0.0          0  2000   \n",
      "4              4  13750  30.0  38500   Diesel   90       0.0          0  2000   \n",
      "...          ...    ...   ...    ...      ...  ...       ...        ...   ...   \n",
      "1431        1431   7500   NaN  20544   Petrol   86       1.0          0  1300   \n",
      "1432        1432  10845  72.0     ??   Petrol   86       0.0          0  1300   \n",
      "1433        1433   8500   NaN  17016   Petrol   86       0.0          0  1300   \n",
      "1434        1434   7250  70.0     ??      NaN   86       1.0          0  1300   \n",
      "1435        1435   6950  76.0      1   Petrol  110       0.0          0  1600   \n",
      "\n",
      "      Doors  Weight  \n",
      "0     three    1165  \n",
      "1         3    1165  \n",
      "2         3    1165  \n",
      "3         3    1165  \n",
      "4         3    1170  \n",
      "...     ...     ...  \n",
      "1431      3    1025  \n",
      "1432      3    1015  \n",
      "1433      3    1015  \n",
      "1434      3    1015  \n",
      "1435      5    1114  \n",
      "\n",
      "[1436 rows x 11 columns]\n",
      "      Unnamed: 0  Price   Age     KM FuelType   HP  MetColor  Automatic    CC  \\\n",
      "0              0  13500  23.0  46986   Diesel   90       1.0          0  2000   \n",
      "1              1  13750  23.0  72937   Diesel   90       1.0          0  2000   \n",
      "2              2  13950  24.0  41711   Diesel   90       NaN          0  2000   \n",
      "3              3  14950  26.0  48000   Diesel   90       0.0          0  2000   \n",
      "4              4  13750  30.0  38500   Diesel   90       0.0          0  2000   \n",
      "...          ...    ...   ...    ...      ...  ...       ...        ...   ...   \n",
      "1431        1431   7500   NaN  20544   Petrol   86       1.0          0  1300   \n",
      "1432        1432  10845  72.0          Petrol   86       0.0          0  1300   \n",
      "1433        1433   8500   NaN  17016   Petrol   86       0.0          0  1300   \n",
      "1434        1434   7250  70.0             NaN   86       1.0          0  1300   \n",
      "1435        1435   6950  76.0      1   Petrol  110       0.0          0  1600   \n",
      "\n",
      "      Doors  Weight  \n",
      "0     three    1165  \n",
      "1         3    1165  \n",
      "2         3    1165  \n",
      "3         3    1165  \n",
      "4         3    1170  \n",
      "...     ...     ...  \n",
      "1431      3    1025  \n",
      "1432      3    1015  \n",
      "1433      3    1015  \n",
      "1434      3    1015  \n",
      "1435      5    1114  \n",
      "\n",
      "[1436 rows x 11 columns]\n"
     ]
    }
   ],
   "source": [
    "new_string = df.replace(\"?\", \" \") \n",
    "new_string1 = df.replace(\"***\", \" \")\n",
    "new_string2 = df.replace(\"??\", \" \") \n",
    "print(new_string)\n",
    "print(new_string1)\n",
    "print(new_string2)"
   ]
  },
  {
   "cell_type": "markdown",
   "id": "987d2553-7425-4813-9da4-157a44bb9902",
   "metadata": {},
   "source": [
    "### Solution 3:"
   ]
  },
  {
   "cell_type": "code",
   "execution_count": 3,
   "id": "d087cc22-4898-407a-91c3-228d2d6c0f42",
   "metadata": {},
   "outputs": [
    {
     "name": "stdout",
     "output_type": "stream",
     "text": [
      " \n",
      "Count total NaN at each column in a DataFrame : \n",
      "\n",
      " Unnamed: 0      0\n",
      "Price           0\n",
      "Age           100\n",
      "KM              0\n",
      "FuelType      100\n",
      "HP              0\n",
      "MetColor      150\n",
      "Automatic       0\n",
      "CC              0\n",
      "Doors           0\n",
      "Weight          0\n",
      "dtype: int64\n"
     ]
    }
   ],
   "source": [
    "print(\" \\nCount total NaN at each column in a DataFrame : \\n\\n\", df.isnull().sum() )"
   ]
  },
  {
   "cell_type": "markdown",
   "id": "f570ccc7-83b7-4f3b-98b4-03439b462a2f",
   "metadata": {},
   "source": [
    "### Solution : 4"
   ]
  },
  {
   "cell_type": "code",
   "execution_count": 4,
   "id": "f1b05e89-af60-48eb-bf02-6a6b15d75122",
   "metadata": {},
   "outputs": [
    {
     "name": "stdout",
     "output_type": "stream",
     "text": [
      "0       23.0\n",
      "1       23.0\n",
      "2       24.0\n",
      "3       26.0\n",
      "4       30.0\n",
      "        ... \n",
      "1431    60.0\n",
      "1432    72.0\n",
      "1433    60.0\n",
      "1434    70.0\n",
      "1435    76.0\n",
      "Name: Age, Length: 1436, dtype: float64\n"
     ]
    }
   ],
   "source": [
    "df['Age'] = df['Age'].fillna(df['Age'].median())\n",
    "print(df['Age'])"
   ]
  },
  {
   "cell_type": "markdown",
   "id": "a3510bc3-b828-415d-9910-1a63b5830930",
   "metadata": {},
   "source": [
    "### Solution :5"
   ]
  },
  {
   "cell_type": "code",
   "execution_count": 5,
   "id": "95f942cd-21b9-4373-b8f1-a530341f0099",
   "metadata": {},
   "outputs": [
    {
     "name": "stdout",
     "output_type": "stream",
     "text": [
      "      Unnamed: 0  Price   Age     KM FuelType   HP  MetColor  Automatic    CC  \\\n",
      "0              0  13500  23.0  46986   Diesel   90       1.0          0  2000   \n",
      "1              1  13750  23.0  72937   Diesel   90       1.0          0  2000   \n",
      "2              2  13950  24.0  41711   Diesel   90       NaN          0  2000   \n",
      "3              3  14950  26.0  48000   Diesel   90       0.0          0  2000   \n",
      "4              4  13750  30.0  38500   Diesel   90       0.0          0  2000   \n",
      "...          ...    ...   ...    ...      ...  ...       ...        ...   ...   \n",
      "1431        1431   7500  60.0  20544   Petrol   86       1.0          0  1300   \n",
      "1432        1432  10845  72.0     ??   Petrol   86       0.0          0  1300   \n",
      "1433        1433   8500  60.0  17016   Petrol   86       0.0          0  1300   \n",
      "1434        1434   7250  70.0     ??      NaN   86       1.0          0  1300   \n",
      "1435        1435   6950  76.0      1   Petrol  110       0.0          0  1600   \n",
      "\n",
      "     Doors  Weight  \n",
      "0        3    1165  \n",
      "1        3    1165  \n",
      "2        3    1165  \n",
      "3        3    1165  \n",
      "4        3    1170  \n",
      "...    ...     ...  \n",
      "1431     3    1025  \n",
      "1432     3    1015  \n",
      "1433     3    1015  \n",
      "1434     3    1015  \n",
      "1435     5    1114  \n",
      "\n",
      "[1436 rows x 11 columns]\n",
      "      Unnamed: 0  Price   Age     KM FuelType   HP  MetColor  Automatic    CC  \\\n",
      "0              0  13500  23.0  46986   Diesel   90       1.0          0  2000   \n",
      "1              1  13750  23.0  72937   Diesel   90       1.0          0  2000   \n",
      "2              2  13950  24.0  41711   Diesel   90       NaN          0  2000   \n",
      "3              3  14950  26.0  48000   Diesel   90       0.0          0  2000   \n",
      "4              4  13750  30.0  38500   Diesel   90       0.0          0  2000   \n",
      "...          ...    ...   ...    ...      ...  ...       ...        ...   ...   \n",
      "1431        1431   7500  60.0  20544   Petrol   86       1.0          0  1300   \n",
      "1432        1432  10845  72.0     ??   Petrol   86       0.0          0  1300   \n",
      "1433        1433   8500  60.0  17016   Petrol   86       0.0          0  1300   \n",
      "1434        1434   7250  70.0     ??      NaN   86       1.0          0  1300   \n",
      "1435        1435   6950  76.0      1   Petrol  110       0.0          0  1600   \n",
      "\n",
      "      Doors  Weight  \n",
      "0     three    1165  \n",
      "1         3    1165  \n",
      "2         3    1165  \n",
      "3         3    1165  \n",
      "4         3    1170  \n",
      "...     ...     ...  \n",
      "1431      3    1025  \n",
      "1432      3    1015  \n",
      "1433      3    1015  \n",
      "1434      3    1015  \n",
      "1435      5    1114  \n",
      "\n",
      "[1436 rows x 11 columns]\n",
      "      Unnamed: 0  Price   Age     KM FuelType   HP  MetColor  Automatic    CC  \\\n",
      "0              0  13500  23.0  46986   Diesel   90       1.0          0  2000   \n",
      "1              1  13750  23.0  72937   Diesel   90       1.0          0  2000   \n",
      "2              2  13950  24.0  41711   Diesel   90       NaN          0  2000   \n",
      "3              3  14950  26.0  48000   Diesel   90       0.0          0  2000   \n",
      "4              4  13750  30.0  38500   Diesel   90       0.0          0  2000   \n",
      "...          ...    ...   ...    ...      ...  ...       ...        ...   ...   \n",
      "1431        1431   7500  60.0  20544   Petrol   86       1.0          0  1300   \n",
      "1432        1432  10845  72.0     ??   Petrol   86       0.0          0  1300   \n",
      "1433        1433   8500  60.0  17016   Petrol   86       0.0          0  1300   \n",
      "1434        1434   7250  70.0     ??      NaN   86       1.0          0  1300   \n",
      "1435        1435   6950  76.0      1   Petrol  110       0.0          0  1600   \n",
      "\n",
      "      Doors  Weight  \n",
      "0     three    1165  \n",
      "1         3    1165  \n",
      "2         3    1165  \n",
      "3         3    1165  \n",
      "4         3    1170  \n",
      "...     ...     ...  \n",
      "1431      3    1025  \n",
      "1432      3    1015  \n",
      "1433      3    1015  \n",
      "1434      3    1015  \n",
      "1435      5    1114  \n",
      "\n",
      "[1436 rows x 11 columns]\n",
      "      Unnamed: 0  Price   Age     KM FuelType   HP  MetColor  Automatic    CC  \\\n",
      "0              0  13500  23.0  46986   Diesel   90       1.0          0  2000   \n",
      "1              1  13750  23.0  72937   Diesel   90       1.0          0  2000   \n",
      "2              2  13950  24.0  41711   Diesel   90       NaN          0  2000   \n",
      "3              3  14950  26.0  48000   Diesel   90       0.0          0  2000   \n",
      "4              4  13750  30.0  38500   Diesel   90       0.0          0  2000   \n",
      "...          ...    ...   ...    ...      ...  ...       ...        ...   ...   \n",
      "1431        1431   7500  60.0  20544   Petrol   86       1.0          0  1300   \n",
      "1432        1432  10845  72.0     ??   Petrol   86       0.0          0  1300   \n",
      "1433        1433   8500  60.0  17016   Petrol   86       0.0          0  1300   \n",
      "1434        1434   7250  70.0     ??      NaN   86       1.0          0  1300   \n",
      "1435        1435   6950  76.0      1   Petrol  110       0.0          0  1600   \n",
      "\n",
      "      Doors  Weight  \n",
      "0     three    1165  \n",
      "1         3    1165  \n",
      "2         3    1165  \n",
      "3         3    1165  \n",
      "4         3    1170  \n",
      "...     ...     ...  \n",
      "1431      3    1025  \n",
      "1432      3    1015  \n",
      "1433      3    1015  \n",
      "1434      3    1015  \n",
      "1435      5    1114  \n",
      "\n",
      "[1436 rows x 11 columns]\n"
     ]
    }
   ],
   "source": [
    "new_string = df.replace(\"three\", \"3\") \n",
    "new_string1 = df.replace(\"four\", \"4\")\n",
    "new_string2= df.replace(\"two\", \"2\") \n",
    "new_string3 = df.replace(\"one\", \"1\")\n",
    "print(new_string)\n",
    "print(new_string1)\n",
    "print(new_string2)\n",
    "print(new_string3)"
   ]
  },
  {
   "cell_type": "markdown",
   "id": "ea2211de-f2a3-4ecf-b38d-2b198d4e8302",
   "metadata": {},
   "source": [
    "### Solution : 6"
   ]
  },
  {
   "cell_type": "code",
   "execution_count": 6,
   "id": "7f94a94e-6cdf-48a2-90a6-01c02b65e4aa",
   "metadata": {},
   "outputs": [
    {
     "data": {
      "text/plain": [
       "FuelType\n",
       "Petrol    1177\n",
       "Diesel     144\n",
       "CNG         15\n",
       "Name: count, dtype: int64"
      ]
     },
     "execution_count": 6,
     "metadata": {},
     "output_type": "execute_result"
    }
   ],
   "source": [
    "df['FuelType'].value_counts()"
   ]
  },
  {
   "cell_type": "markdown",
   "id": "5a30bb97-47c4-4d13-98bc-0d1ba97f3dcd",
   "metadata": {},
   "source": [
    "### Solution 7"
   ]
  },
  {
   "cell_type": "code",
   "execution_count": 7,
   "id": "7d58b9a4-ecdf-47c6-bf91-728e5f2c5421",
   "metadata": {},
   "outputs": [
    {
     "name": "stdout",
     "output_type": "stream",
     "text": [
      "0       Diesel\n",
      "1       Diesel\n",
      "2       Diesel\n",
      "3       Diesel\n",
      "4       Diesel\n",
      "         ...  \n",
      "1431    Petrol\n",
      "1432    Petrol\n",
      "1433    Petrol\n",
      "1434       NaN\n",
      "1435    Petrol\n",
      "Name: FuelType, Length: 1436, dtype: object\n"
     ]
    }
   ],
   "source": [
    "df['FuelType'] = df['FuelType'].fillna(df['FuelType'].mode())\n",
    "print(df['FuelType'])"
   ]
  },
  {
   "cell_type": "markdown",
   "id": "fd3e07dd-4a86-496c-a7a6-6e14bd82b3ff",
   "metadata": {},
   "source": [
    "### Solution 8"
   ]
  },
  {
   "cell_type": "code",
   "execution_count": 8,
   "id": "b217e915-b801-46a9-a315-a9946706c4b8",
   "metadata": {},
   "outputs": [
    {
     "name": "stdout",
     "output_type": "stream",
     "text": [
      "0       1.0\n",
      "1       1.0\n",
      "2       NaN\n",
      "3       0.0\n",
      "4       0.0\n",
      "       ... \n",
      "1431    1.0\n",
      "1432    0.0\n",
      "1433    0.0\n",
      "1434    1.0\n",
      "1435    0.0\n",
      "Name: MetColor, Length: 1436, dtype: float64\n"
     ]
    }
   ],
   "source": [
    "df['MetColor'] = df['MetColor'].fillna(df['MetColor'].mode())\n",
    "print(df['MetColor'])"
   ]
  },
  {
   "cell_type": "markdown",
   "id": "ae303da2-be56-43b1-85b4-775c456bf3f8",
   "metadata": {},
   "source": [
    "### Solution : 9"
   ]
  },
  {
   "cell_type": "code",
   "execution_count": 9,
   "id": "1c487a57-024d-4da4-9633-d126fbcb0c51",
   "metadata": {},
   "outputs": [
    {
     "name": "stdout",
     "output_type": "stream",
     "text": [
      "0       Diesel\n",
      "1       Diesel\n",
      "2       Diesel\n",
      "3       Diesel\n",
      "4       Diesel\n",
      "         ...  \n",
      "1431    Petrol\n",
      "1432    Petrol\n",
      "1433    Petrol\n",
      "1434       NaN\n",
      "1435    Petrol\n",
      "Name: FuelType, Length: 1436, dtype: object\n"
     ]
    }
   ],
   "source": [
    "df['FuelType'] = df['FuelType'].replace(\" Petrol\", \"0\") \n",
    "df['FuelType']= df['FuelType'].replace(\"diesel\", \"1\")\n",
    "df['FuelType']= df['FuelType'].replace(\"CNG\", \"2\") \n",
    "print(df['FuelType'])"
   ]
  },
  {
   "cell_type": "markdown",
   "id": "f0e60477-0e1e-49b3-9dfe-ef7a32cc00ce",
   "metadata": {},
   "source": [
    "### ********************************** PART B *********************************"
   ]
  },
  {
   "cell_type": "markdown",
   "id": "9cb20f63-1b17-4b40-8c07-98d9b032d32e",
   "metadata": {},
   "source": [
    "#### Solution :1"
   ]
  },
  {
   "cell_type": "code",
   "execution_count": null,
   "id": "75ac277c-63c4-4e9f-a46a-5be73dba846c",
   "metadata": {},
   "outputs": [],
   "source": []
  }
 ],
 "metadata": {
  "kernelspec": {
   "display_name": "Python 3 (ipykernel)",
   "language": "python",
   "name": "python3"
  },
  "language_info": {
   "codemirror_mode": {
    "name": "ipython",
    "version": 3
   },
   "file_extension": ".py",
   "mimetype": "text/x-python",
   "name": "python",
   "nbconvert_exporter": "python",
   "pygments_lexer": "ipython3",
   "version": "3.11.5"
  }
 },
 "nbformat": 4,
 "nbformat_minor": 5
}
